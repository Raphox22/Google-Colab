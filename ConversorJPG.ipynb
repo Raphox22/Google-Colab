{
  "nbformat": 4,
  "nbformat_minor": 0,
  "metadata": {
    "colab": {
      "provenance": [],
      "authorship_tag": "ABX9TyM/vOSL+x9RMRE+aLWI8eK+",
      "include_colab_link": true
    },
    "kernelspec": {
      "name": "python3",
      "display_name": "Python 3"
    },
    "language_info": {
      "name": "python"
    }
  },
  "cells": [
    {
      "cell_type": "markdown",
      "metadata": {
        "id": "view-in-github",
        "colab_type": "text"
      },
      "source": [
        "<a href=\"https://colab.research.google.com/github/Raphox22/Google-Colab/blob/main/ConversorJPG.ipynb\" target=\"_parent\"><img src=\"https://colab.research.google.com/assets/colab-badge.svg\" alt=\"Open In Colab\"/></a>"
      ]
    },
    {
      "cell_type": "code",
      "execution_count": 9,
      "metadata": {
        "colab": {
          "base_uri": "https://localhost:8080/"
        },
        "id": "d2R11QD8XqFU",
        "outputId": "cb96994f-7aa7-4634-e9da-807dbec8619e"
      },
      "outputs": [
        {
          "output_type": "execute_result",
          "data": {
            "text/plain": [
              "True"
            ]
          },
          "metadata": {},
          "execution_count": 9
        }
      ],
      "source": [
        "import cv2\n",
        "import numpy as np\n",
        "\n",
        "imagem = cv2.imread(\"livro1.png\")\n",
        "\n",
        "azul, verde, vermelho = cv2.split(imagem)\n",
        "\n",
        "imagem_mesclada = cv2.merge((azul, verde, vermelho))\n",
        "\n",
        "imagem_invertida = cv2.merge((vermelho, verde, azul))\n",
        "\n",
        "blank = np.zeros(imagem.shape[:2], dtype='uint8')\n",
        "\n",
        "canal_azul = cv2.merge([azul, blank, blank])\n",
        "canal_azul_gimp = cv2.merge([azul, azul, azul])\n",
        "canal_verde = cv2.merge([blank, verde, blank])\n",
        "canal_verde_gimp = cv2.merge([verde, verde, verde])\n",
        "canal_vermelho = cv2.merge([blank, blank, vermelho])\n",
        "canal_vermelho_gimp = cv2.merge([vermelho, vermelho, vermelho])\n",
        "\n",
        "cv2.imwrite('Azul.jpg', canal_azul)\n",
        "cv2.imwrite('Azul_gimp.jpg', canal_azul_gimp)\n",
        "cv2.imwrite('Verde.jpg', canal_verde)\n",
        "cv2.imwrite('Verde_gimp.jpg', canal_verde_gimp)\n",
        "cv2.imwrite('Vermelho.jpg', canal_vermelho)\n",
        "cv2.imwrite('Vermelho_gimp.jpg', canal_vermelho_gimp)\n",
        "cv2.imwrite('Invertida.jpg', imagem_invertida)\n",
        "cv2.imwrite('Mesclada.jpg', imagem_mesclada)"
      ]
    }
  ]
}